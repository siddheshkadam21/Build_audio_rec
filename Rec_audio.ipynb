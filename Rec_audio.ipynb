{
 "cells": [
  {
   "cell_type": "code",
   "execution_count": 7,
   "metadata": {},
   "outputs": [],
   "source": [
    "import sounddevice\n",
    "from  scipy.io.wavfile import write"
   ]
  },
  {
   "cell_type": "code",
   "execution_count": 8,
   "metadata": {},
   "outputs": [
    {
     "name": "stdout",
     "output_type": "stream",
     "text": [
      "Enter time duration in seconds: 10\n",
      "recording....n\n"
     ]
    }
   ],
   "source": [
    "fs=44100 # sampling frequency\n",
    "second = int(input(\"Enter time duration in seconds: \")) # user input seconds\n",
    "print(\"recording....n\")"
   ]
  },
  {
   "cell_type": "code",
   "execution_count": 9,
   "metadata": {},
   "outputs": [],
   "source": [
    "record_voice = sounddevice.rec(int(second * fs), samplerate = fs,channels =2 )"
   ]
  },
  {
   "cell_type": "code",
   "execution_count": 10,
   "metadata": {},
   "outputs": [
    {
     "data": {
      "text/plain": [
       "   0 sof-hda-dsp: - (hw:0,0), ALSA (2 in, 2 out)\n",
       "   1 sof-hda-dsp: - (hw:0,3), ALSA (0 in, 2 out)\n",
       "   2 sof-hda-dsp: - (hw:0,4), ALSA (0 in, 2 out)\n",
       "   3 sof-hda-dsp: - (hw:0,5), ALSA (0 in, 2 out)\n",
       "   4 sof-hda-dsp: - (hw:0,6), ALSA (2 in, 0 out)\n",
       "   5 sof-hda-dsp: - (hw:0,7), ALSA (2 in, 0 out)\n",
       "   6 sysdefault, ALSA (128 in, 128 out)\n",
       "   7 samplerate, ALSA (128 in, 128 out)\n",
       "   8 speexrate, ALSA (128 in, 128 out)\n",
       "   9 pulse, ALSA (32 in, 32 out)\n",
       "  10 upmix, ALSA (8 in, 8 out)\n",
       "  11 vdownmix, ALSA (6 in, 6 out)\n",
       "  12 dmix, ALSA (0 in, 2 out)\n",
       "* 13 default, ALSA (32 in, 32 out)"
      ]
     },
     "execution_count": 10,
     "metadata": {},
     "output_type": "execute_result"
    }
   ],
   "source": [
    "sounddevice.query_devices() # check devices "
   ]
  },
  {
   "cell_type": "code",
   "execution_count": null,
   "metadata": {},
   "outputs": [],
   "source": []
  },
  {
   "cell_type": "code",
   "execution_count": 6,
   "metadata": {},
   "outputs": [
    {
     "name": "stdout",
     "output_type": "stream",
     "text": [
      "Finished....nplease check your output file\n"
     ]
    }
   ],
   "source": [
    "sounddevice.wait()\n",
    "write(\"out.wav\", fs,record_voice)\n",
    "print(\"Finished....nplease check your output file\")"
   ]
  },
  {
   "cell_type": "code",
   "execution_count": null,
   "metadata": {},
   "outputs": [],
   "source": []
  }
 ],
 "metadata": {
  "kernelspec": {
   "display_name": "Python 3",
   "language": "python",
   "name": "python3"
  },
  "language_info": {
   "codemirror_mode": {
    "name": "ipython",
    "version": 3
   },
   "file_extension": ".py",
   "mimetype": "text/x-python",
   "name": "python",
   "nbconvert_exporter": "python",
   "pygments_lexer": "ipython3",
   "version": "3.8.5"
  }
 },
 "nbformat": 4,
 "nbformat_minor": 4
}
